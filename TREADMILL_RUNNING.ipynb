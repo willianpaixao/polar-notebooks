{
 "cells": [
  {
   "cell_type": "code",
   "execution_count": null,
   "metadata": {},
   "outputs": [],
   "source": [
    "import os\n",
    "from zipfile import ZipFile\n",
    "\n",
    "with ZipFile('polar-user-data-export_f1466dc1-6c87-4a66-9bbe-6080f3929501.zip', 'r') as z:\n",
    "    z.extractall(path='data/')\n",
    "os.chdir(\"data/\")"
   ]
  },
  {
   "cell_type": "code",
   "execution_count": null,
   "metadata": {},
   "outputs": [],
   "source": [
    "import glob\n",
    "import json\n",
    "import matplotlib.dates as mdates\n",
    "import matplotlib.pyplot as plt\n",
    "import pandas as pd\n",
    "from isodate import parse_duration\n",
    "\n",
    "dates = []\n",
    "distance = []\n",
    "duration = []\n",
    "duration = []\n",
    "heartRate = []\n",
    "\n",
    "for f in glob.glob(\"training-session-*\"):\n",
    "    data = json.load(open(f))\n",
    "    for i in data[\"exercises\"]:\n",
    "        if i[\"sport\"] == \"TREADMILL_RUNNING\":\n",
    "            dates.append(pd.Timestamp(i[\"startTime\"]))\n",
    "            distance.append(i[\"distance\"])\n",
    "            duration.append(parse_duration(i[\"duration\"]).total_seconds())\n",
    "            heartRate.append(i[\"heartRate\"][\"avg\"])"
   ]
  },
  {
   "cell_type": "code",
   "execution_count": null,
   "metadata": {},
   "outputs": [],
   "source": [
    "fig, (ax1, ax2) = plt.subplots(1, 2)\n",
    "fig.set_size_inches(18, 6, forward=True)\n",
    "\n",
    "s = pd.Series(data=distance, index=dates).sort_index()\n",
    "s.plot.bar(ax=ax1)\n",
    "ax1.set_ylabel(\"Distance (m)\")\n",
    "ax1.set_xticks([])\n",
    "ax2.plot(s.sort_index().rolling(10).sum())\n",
    "ax2.set_xticks([])"
   ]
  },
  {
   "cell_type": "code",
   "execution_count": null,
   "metadata": {},
   "outputs": [],
   "source": [
    "fig, (ax1, ax2, ax3) = plt.subplots(1, 3)\n",
    "fig.set_size_inches(18, 6, forward=True)\n",
    "\n",
    "s = pd.Series(data=distance, index=dates)\n",
    "s.plot.kde(bw_method=0.3, ax=ax1)\n",
    "ax1.set_xlabel(\"Distance (m)\")\n",
    "ax1.set_ylabel(\"\")\n",
    "ax1.set_xlim(s.mean() - 2*s.std(), s.mean() + 2*s.std())\n",
    "ax3.set_xticks([s.mean() - 2*s.std(), s.mean()-s.std(), s.mean(), s.mean() + s.std(), s.mean() + 2*s.std()])\n",
    "ax1.set_yticks([])\n",
    "ax1.axvspan(s.mean()-s.std(), s.mean()+s.std(), alpha=0.3)\n",
    "\n",
    "s = pd.Series(data=duration, index=dates)\n",
    "s.plot.kde(bw_method=0.3,ax=ax2)\n",
    "ax2.set_xlabel(\"Duration (s)\")\n",
    "ax2.set_ylabel(\"\")\n",
    "ax2.set_xlim(s.mean() - 2*s.std(), s.mean() + 2*s.std())\n",
    "ax3.set_xticks([s.mean() - 2*s.std(), s.mean()-s.std(), s.mean(), s.mean() + s.std(), s.mean() + 2*s.std()])\n",
    "ax2.set_yticks([])\n",
    "ax2.axvspan(s.mean()-s.std(), s.mean()+s.std(), alpha=0.2)\n",
    "\n",
    "s = pd.Series(data=heartRate, index=dates)\n",
    "s.plot.kde(bw_method=0.3, ax=ax3)\n",
    "ax3.set_xlabel(\"Heart rate (BPM)\")\n",
    "ax3.set_ylabel(\"\")\n",
    "ax3.set_xlim(s.mean() - 2*s.std(), s.mean() + 2*s.std())\n",
    "ax3.set_xticks([s.mean() - 2*s.std(), s.mean()-s.std(), s.mean(), s.mean() + s.std(), s.mean() + 2*s.std()])\n",
    "ax3.set_yticks([])\n",
    "ax3.axvspan(s.mean()-s.std(), s.mean()+s.std(), alpha=0.2)"
   ]
  }
 ],
 "metadata": {
  "kernelspec": {
   "display_name": "Python 3",
   "language": "python",
   "name": "python3"
  },
  "language_info": {
   "codemirror_mode": {
    "name": "ipython",
    "version": 3
   },
   "file_extension": ".py",
   "mimetype": "text/x-python",
   "name": "python",
   "nbconvert_exporter": "python",
   "pygments_lexer": "ipython3",
   "version": "3.7.5"
  }
 },
 "nbformat": 4,
 "nbformat_minor": 2
}
